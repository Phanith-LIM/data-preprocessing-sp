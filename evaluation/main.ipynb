{
 "cells": [
  {
   "cell_type": "code",
   "execution_count": 119,
   "metadata": {},
   "outputs": [],
   "source": [
    "import pandas as pd # type: ignore\n",
    "from jiwer import cer, wer # type: ignore"
   ]
  },
  {
   "cell_type": "code",
   "execution_count": 120,
   "metadata": {},
   "outputs": [],
   "source": [
    "tiny_path = '/Users/PhanithLIM/Documents/04.Projects/data-preprocessing-sp/evaluation/result/result-small-25h.csv'\n",
    "small_path = '/Users/PhanithLIM/Documents/04.Projects/data-preprocessing-sp/evaluation/result/result-small-25h.csv'"
   ]
  },
  {
   "cell_type": "code",
   "execution_count": 121,
   "metadata": {},
   "outputs": [],
   "source": [
    "tiny_df = pd.read_csv(tiny_path)\n",
    "small_df = pd.read_csv(small_path)"
   ]
  },
  {
   "cell_type": "code",
   "execution_count": 122,
   "metadata": {},
   "outputs": [],
   "source": [
    "def process_content(content):\n",
    "    symbols_to_remove = [\n",
    "        '(', ')', '[', ']', '{', '}', '<', '>', \n",
    "        '“', '”', '‘', '’', '«', '»', ',',\n",
    "        '「', '」', '『', '』', '▁', '-',\n",
    "        '៖', '។', '៛', '៕', '!', '​', '–', ' ', ''\n",
    "    ]\n",
    "    for symbol in symbols_to_remove:\n",
    "        content = content.replace(symbol, '')\n",
    "    return content"
   ]
  },
  {
   "cell_type": "code",
   "execution_count": 123,
   "metadata": {},
   "outputs": [
    {
     "data": {
      "text/plain": [
       "Index(['Actual', 'Predict', 'Path', 'Sampling Rate'], dtype='object')"
      ]
     },
     "execution_count": 123,
     "metadata": {},
     "output_type": "execute_result"
    }
   ],
   "source": [
    "tiny_df.columns"
   ]
  },
  {
   "cell_type": "code",
   "execution_count": 124,
   "metadata": {},
   "outputs": [
    {
     "data": {
      "text/html": [
       "<div>\n",
       "<style scoped>\n",
       "    .dataframe tbody tr th:only-of-type {\n",
       "        vertical-align: middle;\n",
       "    }\n",
       "\n",
       "    .dataframe tbody tr th {\n",
       "        vertical-align: top;\n",
       "    }\n",
       "\n",
       "    .dataframe thead th {\n",
       "        text-align: right;\n",
       "    }\n",
       "</style>\n",
       "<table border=\"1\" class=\"dataframe\">\n",
       "  <thead>\n",
       "    <tr style=\"text-align: right;\">\n",
       "      <th></th>\n",
       "      <th>Actual</th>\n",
       "      <th>Predict</th>\n",
       "      <th>Path</th>\n",
       "      <th>Sampling Rate</th>\n",
       "      <th>CER %</th>\n",
       "    </tr>\n",
       "  </thead>\n",
       "  <tbody>\n",
       "    <tr>\n",
       "      <th>0</th>\n",
       "      <td>បើសិនជាយើងមិនបានសម្អាតបរិស្ថានឲ្យវាបានស្អាតទេដ...</td>\n",
       "      <td>ប្រសិនជាយើងបុណ្ណបានសម្បានបរិក្សដ្ឋានអាវាបានស្អ...</td>\n",
       "      <td>9_2.wav</td>\n",
       "      <td>16000</td>\n",
       "      <td>16.82</td>\n",
       "    </tr>\n",
       "    <tr>\n",
       "      <th>1</th>\n",
       "      <td>បាទកាលណាដែលយើងមិនបានសម្អាតមិនបានមើលវាយូរៗទៅមូស...</td>\n",
       "      <td>ការណាដែលយើងមិនបានទំអាត់មើលវាយូរៗទៅមូសនឹងមកពង់ដ...</td>\n",
       "      <td>9_3.wav</td>\n",
       "      <td>16000</td>\n",
       "      <td>20.00</td>\n",
       "    </tr>\n",
       "    <tr>\n",
       "      <th>2</th>\n",
       "      <td>បាទនៅក្នុងរដូវភ្លៀងពេលកាលណាដែលភ្លៀងវាដូចថាភ្លៀ...</td>\n",
       "      <td>នៅក្នុងរដូវភ្លៀងពេលគណាដែលភ្លៀងដូចថាភ្លៀងមកជាញុ...</td>\n",
       "      <td>9_1.wav</td>\n",
       "      <td>16000</td>\n",
       "      <td>19.47</td>\n",
       "    </tr>\n",
       "    <tr>\n",
       "      <th>3</th>\n",
       "      <td>﻿សួស្តីមិត្តភក្តិទាំងអស់គ្នាជួបជាមួយខ្ញុំម្ដងទ...</td>\n",
       "      <td>សួស្តែងមិនភ័ក្ដិទាំងអស់គ្នាជួបជាមួយខ្ញុំមកដងទៀ...</td>\n",
       "      <td>9_0.wav</td>\n",
       "      <td>16000</td>\n",
       "      <td>9.76</td>\n",
       "    </tr>\n",
       "    <tr>\n",
       "      <th>4</th>\n",
       "      <td>បាទកាលណាដែលវាពងដាក់ហើយយូរនឹងឆាប់ដូចជារយៈពេលប៉ុ...</td>\n",
       "      <td>កាលណាដែលវាពងដាក់ហើរយូរនឹងឆាប់ដូចជារយៈពេលពន្មាន...</td>\n",
       "      <td>9_4.wav</td>\n",
       "      <td>16000</td>\n",
       "      <td>29.85</td>\n",
       "    </tr>\n",
       "  </tbody>\n",
       "</table>\n",
       "</div>"
      ],
      "text/plain": [
       "                                              Actual  \\\n",
       "0  បើសិនជាយើងមិនបានសម្អាតបរិស្ថានឲ្យវាបានស្អាតទេដ...   \n",
       "1  បាទកាលណាដែលយើងមិនបានសម្អាតមិនបានមើលវាយូរៗទៅមូស...   \n",
       "2  បាទនៅក្នុងរដូវភ្លៀងពេលកាលណាដែលភ្លៀងវាដូចថាភ្លៀ...   \n",
       "3  ﻿សួស្តីមិត្តភក្តិទាំងអស់គ្នាជួបជាមួយខ្ញុំម្ដងទ...   \n",
       "4  បាទកាលណាដែលវាពងដាក់ហើយយូរនឹងឆាប់ដូចជារយៈពេលប៉ុ...   \n",
       "\n",
       "                                             Predict     Path  Sampling Rate  \\\n",
       "0  ប្រសិនជាយើងបុណ្ណបានសម្បានបរិក្សដ្ឋានអាវាបានស្អ...  9_2.wav          16000   \n",
       "1  ការណាដែលយើងមិនបានទំអាត់មើលវាយូរៗទៅមូសនឹងមកពង់ដ...  9_3.wav          16000   \n",
       "2  នៅក្នុងរដូវភ្លៀងពេលគណាដែលភ្លៀងដូចថាភ្លៀងមកជាញុ...  9_1.wav          16000   \n",
       "3  សួស្តែងមិនភ័ក្ដិទាំងអស់គ្នាជួបជាមួយខ្ញុំមកដងទៀ...  9_0.wav          16000   \n",
       "4  កាលណាដែលវាពងដាក់ហើរយូរនឹងឆាប់ដូចជារយៈពេលពន្មាន...  9_4.wav          16000   \n",
       "\n",
       "   CER %  \n",
       "0  16.82  \n",
       "1  20.00  \n",
       "2  19.47  \n",
       "3   9.76  \n",
       "4  29.85  "
      ]
     },
     "execution_count": 124,
     "metadata": {},
     "output_type": "execute_result"
    }
   ],
   "source": [
    "tiny_df['Actual'] = tiny_df['Actual'].apply(lambda x: process_content(x))\n",
    "tiny_df['Predict'] = tiny_df['Predict'].apply(lambda x: process_content(x))\n",
    "tiny_df['CER %'] = tiny_df.apply(lambda x: round(cer(x['Actual'], x['Predict']) * 100, 2), axis=1)\n",
    "tiny_df.head(5)"
   ]
  },
  {
   "cell_type": "code",
   "execution_count": 125,
   "metadata": {},
   "outputs": [
    {
     "name": "stdout",
     "output_type": "stream",
     "text": [
      "Mean CER: 21.836898876404494 %\n",
      "Min CER: 0.0 %\n",
      "Max CER: 80.19 %\n"
     ]
    }
   ],
   "source": [
    "mean_cer = tiny_df['CER %'].mean()\n",
    "min_cer = tiny_df['CER %'].min()\n",
    "max_cer = tiny_df['CER %'].max()\n",
    "print(f'Mean CER: {mean_cer} %')\n",
    "print(f'Min CER: {min_cer} %')\n",
    "print(f'Max CER: {max_cer} %')"
   ]
  },
  {
   "cell_type": "code",
   "execution_count": 128,
   "metadata": {},
   "outputs": [],
   "source": [
    "data = tiny_df[tiny_df['CER %'] == min_cer]\n",
    "data.to_csv('min_cer.csv', index=False)"
   ]
  },
  {
   "cell_type": "code",
   "execution_count": null,
   "metadata": {},
   "outputs": [],
   "source": []
  }
 ],
 "metadata": {
  "kernelspec": {
   "display_name": "base",
   "language": "python",
   "name": "python3"
  },
  "language_info": {
   "codemirror_mode": {
    "name": "ipython",
    "version": 3
   },
   "file_extension": ".py",
   "mimetype": "text/x-python",
   "name": "python",
   "nbconvert_exporter": "python",
   "pygments_lexer": "ipython3",
   "version": "3.12.7"
  }
 },
 "nbformat": 4,
 "nbformat_minor": 2
}
